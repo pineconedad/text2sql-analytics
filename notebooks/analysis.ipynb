{
 "cells": [
  {
   "cell_type": "markdown",
   "id": "b52dcc8d",
   "metadata": {},
   "source": [
    "# Data Exploration & Validation\n",
    "This notebook demonstrates basic data loading, inspection, and validation for the Northwind dataset."
   ]
  },
  {
   "cell_type": "code",
   "execution_count": null,
   "id": "5d96cf0e",
   "metadata": {},
   "outputs": [],
   "source": [
    "# Import libraries\n",
    "import pandas as pd"
   ]
  },
  {
   "cell_type": "code",
   "execution_count": null,
   "id": "0176935e",
   "metadata": {},
   "outputs": [],
   "source": [
    "# Load customers data\n",
    "customers = pd.read_csv('../data/raw/customers.csv')\n",
    "customers.head()"
   ]
  },
  {
   "cell_type": "code",
   "execution_count": null,
   "id": "b5e57154",
   "metadata": {},
   "outputs": [],
   "source": [
    "# Check for duplicates in customer_id\n",
    "customers['customer_id'].duplicated().sum()"
   ]
  },
  {
   "cell_type": "code",
   "execution_count": null,
   "id": "3d5ce3c0",
   "metadata": {},
   "outputs": [],
   "source": [
    "# Load orders data and check referential integrity\n",
    "orders = pd.read_csv('../data/raw/orders.csv')\n",
    "missing_customers = set(orders['customer_id']) - set(customers['customer_id'])\n",
    "print('Missing customer IDs in orders:', missing_customers)"
   ]
  }
 ],
 "metadata": {
  "language_info": {
   "name": "python"
  }
 },
 "nbformat": 4,
 "nbformat_minor": 5
}
